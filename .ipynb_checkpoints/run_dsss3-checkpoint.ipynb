{
 "cells": [
  {
   "cell_type": "code",
   "execution_count": 1,
   "metadata": {},
   "outputs": [
    {
     "name": "stdout",
     "output_type": "stream",
     "text": [
      "Collecting git+https://github.com/sushmashahi/idm_id.git\n",
      "  Cloning https://github.com/sushmashahi/idm_id.git to c:\\users\\shahig\\appdata\\local\\temp\\pip-req-build-pzgnt0mi\n",
      "Requirement already satisfied (use --upgrade to upgrade): UNKNOWN==0.1 from git+https://github.com/sushmashahi/idm_id.git in c:\\users\\shahig\\appdata\\local\\continuum\\anaconda3\\lib\\site-packages\n",
      "Requirement already satisfied: numpy in c:\\users\\shahig\\appdata\\local\\continuum\\anaconda3\\lib\\site-packages (from UNKNOWN==0.1) (1.15.4)\n",
      "Requirement already satisfied: Pillow in c:\\users\\shahig\\appdata\\local\\continuum\\anaconda3\\lib\\site-packages (from UNKNOWN==0.1) (5.3.0)\n",
      "Requirement already satisfied: ipywidgets in c:\\users\\shahig\\appdata\\local\\continuum\\anaconda3\\lib\\site-packages (from UNKNOWN==0.1) (7.4.2)\n",
      "Requirement already satisfied: nbformat>=4.2.0 in c:\\users\\shahig\\appdata\\local\\continuum\\anaconda3\\lib\\site-packages (from ipywidgets->UNKNOWN==0.1) (4.4.0)\n",
      "Requirement already satisfied: widgetsnbextension~=3.4.0 in c:\\users\\shahig\\appdata\\local\\continuum\\anaconda3\\lib\\site-packages (from ipywidgets->UNKNOWN==0.1) (3.4.2)\n",
      "Requirement already satisfied: ipykernel>=4.5.1 in c:\\users\\shahig\\appdata\\local\\continuum\\anaconda3\\lib\\site-packages (from ipywidgets->UNKNOWN==0.1) (5.1.0)\n",
      "Requirement already satisfied: traitlets>=4.3.1 in c:\\users\\shahig\\appdata\\local\\continuum\\anaconda3\\lib\\site-packages (from ipywidgets->UNKNOWN==0.1) (4.3.2)\n",
      "Requirement already satisfied: ipython>=4.0.0; python_version >= \"3.3\" in c:\\users\\shahig\\appdata\\local\\continuum\\anaconda3\\lib\\site-packages (from ipywidgets->UNKNOWN==0.1) (7.2.0)\n",
      "Requirement already satisfied: jupyter-core in c:\\users\\shahig\\appdata\\local\\continuum\\anaconda3\\lib\\site-packages (from nbformat>=4.2.0->ipywidgets->UNKNOWN==0.1) (4.4.0)\n",
      "Requirement already satisfied: ipython-genutils in c:\\users\\shahig\\appdata\\local\\continuum\\anaconda3\\lib\\site-packages (from nbformat>=4.2.0->ipywidgets->UNKNOWN==0.1) (0.2.0)\n",
      "Requirement already satisfied: jsonschema!=2.5.0,>=2.4 in c:\\users\\shahig\\appdata\\local\\continuum\\anaconda3\\lib\\site-packages (from nbformat>=4.2.0->ipywidgets->UNKNOWN==0.1) (2.6.0)\n",
      "Requirement already satisfied: notebook>=4.4.1 in c:\\users\\shahig\\appdata\\local\\continuum\\anaconda3\\lib\\site-packages (from widgetsnbextension~=3.4.0->ipywidgets->UNKNOWN==0.1) (5.7.4)\n",
      "Requirement already satisfied: jupyter-client in c:\\users\\shahig\\appdata\\local\\continuum\\anaconda3\\lib\\site-packages (from ipykernel>=4.5.1->ipywidgets->UNKNOWN==0.1) (5.2.4)\n",
      "Requirement already satisfied: tornado>=4.2 in c:\\users\\shahig\\appdata\\local\\continuum\\anaconda3\\lib\\site-packages (from ipykernel>=4.5.1->ipywidgets->UNKNOWN==0.1) (5.1.1)\n",
      "Requirement already satisfied: decorator in c:\\users\\shahig\\appdata\\local\\continuum\\anaconda3\\lib\\site-packages (from traitlets>=4.3.1->ipywidgets->UNKNOWN==0.1) (4.3.0)\n",
      "Requirement already satisfied: six in c:\\users\\shahig\\appdata\\local\\continuum\\anaconda3\\lib\\site-packages (from traitlets>=4.3.1->ipywidgets->UNKNOWN==0.1) (1.12.0)\n",
      "Requirement already satisfied: jedi>=0.10 in c:\\users\\shahig\\appdata\\local\\continuum\\anaconda3\\lib\\site-packages (from ipython>=4.0.0; python_version >= \"3.3\"->ipywidgets->UNKNOWN==0.1) (0.13.2)\n",
      "Requirement already satisfied: setuptools>=18.5 in c:\\users\\shahig\\appdata\\local\\continuum\\anaconda3\\lib\\site-packages (from ipython>=4.0.0; python_version >= \"3.3\"->ipywidgets->UNKNOWN==0.1) (40.6.3)\n",
      "Requirement already satisfied: backcall in c:\\users\\shahig\\appdata\\local\\continuum\\anaconda3\\lib\\site-packages (from ipython>=4.0.0; python_version >= \"3.3\"->ipywidgets->UNKNOWN==0.1) (0.1.0)\n",
      "Requirement already satisfied: colorama; sys_platform == \"win32\" in c:\\users\\shahig\\appdata\\local\\continuum\\anaconda3\\lib\\site-packages (from ipython>=4.0.0; python_version >= \"3.3\"->ipywidgets->UNKNOWN==0.1) (0.4.1)\n",
      "Requirement already satisfied: pickleshare in c:\\users\\shahig\\appdata\\local\\continuum\\anaconda3\\lib\\site-packages (from ipython>=4.0.0; python_version >= \"3.3\"->ipywidgets->UNKNOWN==0.1) (0.7.5)\n",
      "Requirement already satisfied: pygments in c:\\users\\shahig\\appdata\\local\\continuum\\anaconda3\\lib\\site-packages (from ipython>=4.0.0; python_version >= \"3.3\"->ipywidgets->UNKNOWN==0.1) (2.3.1)\n",
      "Requirement already satisfied: prompt-toolkit<2.1.0,>=2.0.0 in c:\\users\\shahig\\appdata\\local\\continuum\\anaconda3\\lib\\site-packages (from ipython>=4.0.0; python_version >= \"3.3\"->ipywidgets->UNKNOWN==0.1) (2.0.7)\n",
      "Requirement already satisfied: pyzmq>=17 in c:\\users\\shahig\\appdata\\local\\continuum\\anaconda3\\lib\\site-packages (from notebook>=4.4.1->widgetsnbextension~=3.4.0->ipywidgets->UNKNOWN==0.1) (17.1.2)\n",
      "Requirement already satisfied: Send2Trash in c:\\users\\shahig\\appdata\\local\\continuum\\anaconda3\\lib\\site-packages (from notebook>=4.4.1->widgetsnbextension~=3.4.0->ipywidgets->UNKNOWN==0.1) (1.5.0)\n",
      "Requirement already satisfied: nbconvert in c:\\users\\shahig\\appdata\\local\\continuum\\anaconda3\\lib\\site-packages (from notebook>=4.4.1->widgetsnbextension~=3.4.0->ipywidgets->UNKNOWN==0.1) (5.4.0)\n",
      "Requirement already satisfied: prometheus-client in c:\\users\\shahig\\appdata\\local\\continuum\\anaconda3\\lib\\site-packages (from notebook>=4.4.1->widgetsnbextension~=3.4.0->ipywidgets->UNKNOWN==0.1) (0.5.0)\n",
      "Requirement already satisfied: terminado>=0.8.1 in c:\\users\\shahig\\appdata\\local\\continuum\\anaconda3\\lib\\site-packages (from notebook>=4.4.1->widgetsnbextension~=3.4.0->ipywidgets->UNKNOWN==0.1) (0.8.1)\n",
      "Requirement already satisfied: jinja2 in c:\\users\\shahig\\appdata\\local\\continuum\\anaconda3\\lib\\site-packages (from notebook>=4.4.1->widgetsnbextension~=3.4.0->ipywidgets->UNKNOWN==0.1) (2.10)\n",
      "Requirement already satisfied: python-dateutil>=2.1 in c:\\users\\shahig\\appdata\\local\\continuum\\anaconda3\\lib\\site-packages (from jupyter-client->ipykernel>=4.5.1->ipywidgets->UNKNOWN==0.1) (2.7.5)\n",
      "Requirement already satisfied: parso>=0.3.0 in c:\\users\\shahig\\appdata\\local\\continuum\\anaconda3\\lib\\site-packages (from jedi>=0.10->ipython>=4.0.0; python_version >= \"3.3\"->ipywidgets->UNKNOWN==0.1) (0.3.1)\n",
      "Requirement already satisfied: wcwidth in c:\\users\\shahig\\appdata\\local\\continuum\\anaconda3\\lib\\site-packages (from prompt-toolkit<2.1.0,>=2.0.0->ipython>=4.0.0; python_version >= \"3.3\"->ipywidgets->UNKNOWN==0.1) (0.1.7)\n",
      "Requirement already satisfied: mistune>=0.8.1 in c:\\users\\shahig\\appdata\\local\\continuum\\anaconda3\\lib\\site-packages (from nbconvert->notebook>=4.4.1->widgetsnbextension~=3.4.0->ipywidgets->UNKNOWN==0.1) (0.8.4)\n",
      "Requirement already satisfied: entrypoints>=0.2.2 in c:\\users\\shahig\\appdata\\local\\continuum\\anaconda3\\lib\\site-packages (from nbconvert->notebook>=4.4.1->widgetsnbextension~=3.4.0->ipywidgets->UNKNOWN==0.1) (0.2.3)\n",
      "Requirement already satisfied: bleach in c:\\users\\shahig\\appdata\\local\\continuum\\anaconda3\\lib\\site-packages (from nbconvert->notebook>=4.4.1->widgetsnbextension~=3.4.0->ipywidgets->UNKNOWN==0.1) (3.0.2)\n",
      "Requirement already satisfied: pandocfilters>=1.4.1 in c:\\users\\shahig\\appdata\\local\\continuum\\anaconda3\\lib\\site-packages (from nbconvert->notebook>=4.4.1->widgetsnbextension~=3.4.0->ipywidgets->UNKNOWN==0.1) (1.4.2)\n",
      "Requirement already satisfied: testpath in c:\\users\\shahig\\appdata\\local\\continuum\\anaconda3\\lib\\site-packages (from nbconvert->notebook>=4.4.1->widgetsnbextension~=3.4.0->ipywidgets->UNKNOWN==0.1) (0.4.2)\n",
      "Requirement already satisfied: defusedxml in c:\\users\\shahig\\appdata\\local\\continuum\\anaconda3\\lib\\site-packages (from nbconvert->notebook>=4.4.1->widgetsnbextension~=3.4.0->ipywidgets->UNKNOWN==0.1) (0.5.0)\n",
      "Requirement already satisfied: MarkupSafe>=0.23 in c:\\users\\shahig\\appdata\\local\\continuum\\anaconda3\\lib\\site-packages (from jinja2->notebook>=4.4.1->widgetsnbextension~=3.4.0->ipywidgets->UNKNOWN==0.1) (1.1.0)\n",
      "Requirement already satisfied: webencodings in c:\\users\\shahig\\appdata\\local\\continuum\\anaconda3\\lib\\site-packages (from bleach->nbconvert->notebook>=4.4.1->widgetsnbextension~=3.4.0->ipywidgets->UNKNOWN==0.1) (0.5.1)\n",
      "Building wheels for collected packages: UNKNOWN\n",
      "  Running setup.py bdist_wheel for UNKNOWN: started\n",
      "  Running setup.py bdist_wheel for UNKNOWN: finished with status 'done'\n",
      "  Stored in directory: C:\\Users\\shahig\\AppData\\Local\\Temp\\pip-ephem-wheel-cache-2p8ho7ob\\wheels\\f0\\07\\d9\\006b854ac71c80288597ebdc76c625ed7c7e0e1bd224be5ad4\n",
      "Successfully built UNKNOWN\n"
     ]
    }
   ],
   "source": [
    "! pip install git+https://github.com/sushmashahi/idm_id.git"
   ]
  },
  {
   "cell_type": "code",
   "execution_count": 3,
   "metadata": {},
   "outputs": [],
   "source": [
    "import idm"
   ]
  },
  {
   "cell_type": "code",
   "execution_count": 8,
   "metadata": {},
   "outputs": [
    {
     "data": {
      "text/plain": [
       "<module 'idm.function' from 'C:\\\\Users\\\\shahig\\\\DSSS_Task3\\\\idm_id\\\\idm\\\\function.py'>"
      ]
     },
     "execution_count": 8,
     "metadata": {},
     "output_type": "execute_result"
    }
   ],
   "source": [
    "idm.function"
   ]
  },
  {
   "cell_type": "code",
   "execution_count": 6,
   "metadata": {},
   "outputs": [],
   "source": [
    "from idm import function"
   ]
  },
  {
   "cell_type": "code",
   "execution_count": 7,
   "metadata": {},
   "outputs": [
    {
     "ename": "TypeError",
     "evalue": "'module' object is not callable",
     "output_type": "error",
     "traceback": [
      "\u001b[1;31m---------------------------------------------------------------------------\u001b[0m",
      "\u001b[1;31mTypeError\u001b[0m                                 Traceback (most recent call last)",
      "\u001b[1;32m<ipython-input-7-37fa5f0d4078>\u001b[0m in \u001b[0;36m<module>\u001b[1;34m\u001b[0m\n\u001b[1;32m----> 1\u001b[1;33m \u001b[0mfunction\u001b[0m\u001b[1;33m(\u001b[0m\u001b[1;33m[\u001b[0m\u001b[1;36m6\u001b[0m\u001b[1;33m,\u001b[0m\u001b[1;36m7\u001b[0m\u001b[1;33m]\u001b[0m\u001b[1;33m)\u001b[0m\u001b[1;33m\u001b[0m\u001b[1;33m\u001b[0m\u001b[0m\n\u001b[0m",
      "\u001b[1;31mTypeError\u001b[0m: 'module' object is not callable"
     ]
    }
   ],
   "source": [
    "function([6,7])"
   ]
  },
  {
   "cell_type": "code",
   "execution_count": null,
   "metadata": {},
   "outputs": [],
   "source": []
  }
 ],
 "metadata": {
  "kernelspec": {
   "display_name": "myvenv",
   "language": "python",
   "name": "myvenv"
  },
  "language_info": {
   "codemirror_mode": {
    "name": "ipython",
    "version": 3
   },
   "file_extension": ".py",
   "mimetype": "text/x-python",
   "name": "python",
   "nbconvert_exporter": "python",
   "pygments_lexer": "ipython3",
   "version": "3.7.1"
  }
 },
 "nbformat": 4,
 "nbformat_minor": 2
}
